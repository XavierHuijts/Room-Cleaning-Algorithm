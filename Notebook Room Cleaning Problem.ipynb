{
 "cells": [
  {
   "cell_type": "markdown",
   "metadata": {},
   "source": [
    "# Introduction"
   ]
  },
  {
   "cell_type": "markdown",
   "metadata": {},
   "source": [
    "The algorithm is broken down into multiple created functions, where the following order counts: <br /> <br /> \n",
    "$\\;\\;\\;\\;\\;\\;\\;\\;\\;\\;\\;\\;\\;$ 1) $\\;\\;\\;\\;\\;$Convert matrix into a system of coordinates and remove the wall coordinates <br /> \n",
    "$\\;\\;\\;\\;\\;\\;\\;\\;\\;\\;\\;\\;\\;$ 2) $\\;\\;\\;\\;\\;$Cluster the neighbouring coordinates (akin to detecting local areas) <br /> \n",
    "$\\;\\;\\;\\;\\;\\;\\;\\;\\;\\;\\;\\;\\;$ 3) $\\;\\;\\;\\;\\;$Detect the number of required cleaning sessions <br /> "
   ]
  },
  {
   "cell_type": "markdown",
   "metadata": {},
   "source": [
    "# 1) Convert matrix into a system of coordinates and remove the wall coordinates"
   ]
  },
  {
   "cell_type": "markdown",
   "metadata": {},
   "source": [
    "### $\\;\\;\\;\\;\\;\\;\\;\\;\\;\\;\\;$Detect whether the coordinate corresponds to a wall"
   ]
  },
  {
   "cell_type": "markdown",
   "metadata": {},
   "source": [
    "$\\;\\;\\;\\;\\;\\;\\;\\;\\;\\;\\;\\;\\;\\;\\;\\;$The inputs are: <br />\n",
    "$\\;\\;\\;\\;\\;\\;\\;\\;\\;\\;\\;\\;\\;\\;\\;\\;$ $-$ The matrix X <br />\n",
    "$\\;\\;\\;\\;\\;\\;\\;\\;\\;\\;\\;\\;\\;\\;\\;\\;$ $-$ The i (= row) coordinate <br />\n",
    "$\\;\\;\\;\\;\\;\\;\\;\\;\\;\\;\\;\\;\\;\\;\\;\\;$ $-$ The j (= column) coordinate"
   ]
  },
  {
   "cell_type": "code",
   "execution_count": 6,
   "metadata": {},
   "outputs": [],
   "source": [
    "def is_wall(X, i, j):\n",
    "    single_cell = X[i][j]\n",
    "                    \n",
    "    # If wall, return True\n",
    "    if single_cell == '#':\n",
    "        return True\n",
    "        \n",
    "    else:\n",
    "        return False"
   ]
  },
  {
   "cell_type": "markdown",
   "metadata": {},
   "source": [
    "#### $\\;\\;\\;\\;\\;\\;\\;\\;\\;\\;\\;$ Convert the matrix into list of coordinates (i = row, j = column)"
   ]
  },
  {
   "cell_type": "markdown",
   "metadata": {},
   "source": [
    "$\\;\\;\\;\\;\\;\\;\\;\\;\\;\\;\\;\\;\\;$ Each position in the matrix has an associated coordinate, with the first cell on the top left being coordinate (0, 0).  <br /> \n",
    "$\\;\\;\\;\\;\\;\\;\\;\\;\\;\\;\\;\\;\\;$ The bottom right cell is coordinate (n-1, n-1), where n is the length of the row/columns (1 is substracted from n since the index in Python starts at 0 and not 1).  <br />$\\;\\;\\;\\;\\;\\;\\;\\;\\;\\;\\;\\;\\;$ For simplicity, the assumtion is made that the number of rows equals the numer of columns:<br /><br />   <big>$$ n_{i} = n_{j} $$</big>  <br />\n",
    "\n",
    "$\\;\\;\\;\\;\\;\\;\\;\\;\\;\\;\\;\\;\\;$ We are only interested in neighbouring rooms and using this method, it is not necessary to keep the coordinates of the walls. Therefore, in case the coordinate corresponds to a wall in the matrix, it is excluded."
   ]
  },
  {
   "cell_type": "code",
   "execution_count": 8,
   "metadata": {},
   "outputs": [],
   "source": [
    "def clean_coordinates(X):\n",
    "\n",
    "    n_rows = len(X)\n",
    "    n_cols = len(X[0])  # The assumtion is made that the length is equal for each row\n",
    "                    \n",
    "    coordinates = []\n",
    "        \n",
    "    for i in range(n_rows):\n",
    "        for j in range(n_cols):\n",
    "            # If wall, continue to the next coordinate\n",
    "            if X[i][j] == \"#\":\n",
    "                continue\n",
    "            else:\n",
    "                coordinates.append((i, j))\n",
    " \n",
    "    return coordinates"
   ]
  },
  {
   "cell_type": "markdown",
   "metadata": {},
   "source": [
    "# 2) Cluster the neighbouring coordinates (akin to detecting local areas)"
   ]
  },
  {
   "cell_type": "markdown",
   "metadata": {},
   "source": [
    "### $\\;\\;\\;\\;\\;\\;\\;\\;\\;\\;\\;$ Detect whether coordinate x neighbours coordinate y"
   ]
  },
  {
   "cell_type": "markdown",
   "metadata": {},
   "source": [
    "$\\;\\;\\;\\;\\;\\;\\;\\;\\;\\;\\;\\;\\;\\;\\;\\;$By taking the absolute difference of two different coordinates, we can verify whether they are neighbors. The total absolute difference should equal 1, as we only consider horizontal or vertical neighbors (ignoring diagonal neighbours, $\\;\\;\\;\\;\\;\\;\\;\\;\\;\\;\\;\\;\\;\\;\\;\\;$which would require a total absolute difference of 2).\n",
    "\n",
    "$$ \\text{Coordinate 1} = (i_{1}, j_{1}) \\quad \\text{and} \\quad \\text{Coordinate 2} = (i_{2}, j_{2}) $$\n",
    "\n",
    "$$ \\text{Then, the absolute difference between the coordinates is:} $$ \n",
    "\n",
    "$$ \\text{Absolute Difference} = \\left| i_{1} - i_{2} \\right| + \\left| j_{1} - j_{2} \\right| $$\n",
    "\n",
    "$$ \\text{If } \\left| i_{1} - i_{2} \\right| + \\left| j_{1} - j_{2} \\right| = 1, \\text{ then } (i_{1}, j_{1}) \\text{ and } (i_{2}, j_{2}) \\text{ are neighbouring coordinates.} $$\n"
   ]
  },
  {
   "cell_type": "code",
   "execution_count": 10,
   "metadata": {},
   "outputs": [],
   "source": [
    "def detect_neighbour(cor, cor2):\n",
    "    \n",
    "    i, j = cor\n",
    "    i2, j2 = cor2\n",
    "    absolute_diff = abs(i - i2) + abs(j - j2)\n",
    "\n",
    "    # Neighouring scenario\n",
    "    if absolute_diff == 1:\n",
    "        return True\n",
    "    # Not neighbouring scenario\n",
    "    else:\n",
    "        return False"
   ]
  },
  {
   "cell_type": "markdown",
   "metadata": {},
   "source": [
    "### $\\;\\;\\;\\;\\;\\;\\;\\;\\;\\; \\;$ Find one local area"
   ]
  },
  {
   "cell_type": "markdown",
   "metadata": {},
   "source": [
    "$\\;\\;\\;\\;\\;\\;\\;\\;\\;\\;\\;\\;\\;\\;\\;\\;$ To find a single local area, the following code is used. It iterates over the coordinates given as input, and clusters neighbouring coordinates together. This process is repeated until no neighbouring coordinates are found. "
   ]
  },
  {
   "cell_type": "markdown",
   "metadata": {},
   "source": [
    "$\\;\\;\\;\\;\\;\\;\\;\\;\\;\\;\\;\\;\\;\\;\\;\\;$ To find the first search, the following code is used:"
   ]
  },
  {
   "cell_type": "code",
   "execution_count": 12,
   "metadata": {},
   "outputs": [],
   "source": [
    "def find_local_area(X):\n",
    "    \n",
    "    # Pre-see with the first coordinate\n",
    "    local_area = [X[0]]\n",
    "    # This indicates if new neighbors were added. Initialize to true to start off the while loop\n",
    "    neighbouring =  True \n",
    "    \n",
    "    while neighbouring:\n",
    "        # Change back to False, and alter if indeed a neighbour is detected\n",
    "        neighbouring = False \n",
    "        \n",
    "        for cor in X[1:]:\n",
    "            for cor2 in local_area:\n",
    "                if detect_neighbour(cor, cor2) and cor not in local_area:\n",
    "                    local_area.append(cor)\n",
    "                    # Set back to True in case a neighbouring coordinate is found\n",
    "                    neighbouring = True\n",
    "                    break\n",
    "\n",
    "    return local_area"
   ]
  },
  {
   "cell_type": "markdown",
   "metadata": {},
   "source": [
    "### $\\;\\;\\;\\;\\;\\;\\;\\;\\;\\; \\;$ Find all local areas"
   ]
  },
  {
   "cell_type": "markdown",
   "metadata": {},
   "source": [
    "$\\;\\;\\;\\;\\;\\;\\;\\;\\;\\;\\;\\;\\;\\;\\;\\;$ In the below, local areas are retrieved until all are found"
   ]
  },
  {
   "cell_type": "code",
   "execution_count": 14,
   "metadata": {},
   "outputs": [],
   "source": [
    "def find_all_local_areas(X):\n",
    "\n",
    "    # Import a flat (one dim.) list of coordinates excluding walls\n",
    "    clean_cors = clean_coordinates(X)\n",
    "    local_areas = []\n",
    "\n",
    "    # The while loop stops when all local areas are found\n",
    "    while clean_cors:\n",
    "        \n",
    "        local_area = find_local_area(clean_cors)\n",
    "        local_areas.append(local_area)\n",
    "        \n",
    "        for cor in local_area:\n",
    "            clean_cors.remove(cor)\n",
    "    \n",
    "    return local_areas    "
   ]
  },
  {
   "cell_type": "markdown",
   "metadata": {},
   "source": [
    "# 3) Detect the number of required cleaning sessions"
   ]
  },
  {
   "cell_type": "markdown",
   "metadata": {},
   "source": [
    "### $\\;\\;\\;\\;\\;\\;\\;\\;\\;\\;\\;$ Detect whether there is a dirty room in the local areas"
   ]
  },
  {
   "cell_type": "code",
   "execution_count": 16,
   "metadata": {},
   "outputs": [],
   "source": [
    "def is_dirty(i, j, X):\n",
    "    single_position = X[i][j]\n",
    "    \n",
    "    if single_position == '1':\n",
    "        return True\n",
    "    \n",
    "    else:\n",
    "        return False"
   ]
  },
  {
   "cell_type": "markdown",
   "metadata": {},
   "source": [
    "### $\\;\\;\\;\\;\\;\\;\\;\\;\\;\\;\\;$ Iterate over local areas and count the required clean sessions"
   ]
  },
  {
   "cell_type": "markdown",
   "metadata": {},
   "source": [
    "$\\;\\;\\;\\;\\;\\;\\;\\;\\;\\;\\;\\;\\;\\;\\;\\;$ Iterate over the rooms in each local area. If a local area contains at least one dirty room, add 1 to the number of required cleaning sessions and continue to the next local area"
   ]
  },
  {
   "cell_type": "code",
   "execution_count": 18,
   "metadata": {},
   "outputs": [],
   "source": [
    "def n_cleans_required(X):\n",
    "    \n",
    "    local_areas = find_all_local_areas(X)\n",
    "    n_cleans = 0\n",
    "    \n",
    "    # Iterate over each local area\n",
    "    for local_area in local_areas:\n",
    "        dirty_room = False\n",
    "        \n",
    "        # Iterate over the rooms in the lcoal area\n",
    "        for rooms_cor in local_area: \n",
    "            i, j = rooms_cor\n",
    "            \n",
    "            '''In case there is a dirty room in a local alrea, add \n",
    "                one cleaning session and go to the next local area \n",
    "                (by breaking the inner loop)'''\n",
    "            if is_dirty(i, j, X):\n",
    "                dirty_room = True\n",
    "                n_cleans += 1\n",
    "                break\n",
    "        \n",
    "    return 'Number of local areas: ', len(local_areas), '\\nNumber of cleans required: ', n_cleans"
   ]
  }
 ],
 "metadata": {
  "kernelspec": {
   "display_name": "Python 3 (ipykernel)",
   "language": "python",
   "name": "python3"
  },
  "language_info": {
   "codemirror_mode": {
    "name": "ipython",
    "version": 3
   },
   "file_extension": ".py",
   "mimetype": "text/x-python",
   "name": "python",
   "nbconvert_exporter": "python",
   "pygments_lexer": "ipython3",
   "version": "3.12.4"
  }
 },
 "nbformat": 4,
 "nbformat_minor": 4
}
