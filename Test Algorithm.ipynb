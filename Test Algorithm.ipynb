{
 "cells": [
  {
   "cell_type": "markdown",
   "id": "7eb7199a-91fa-4438-9076-31969e592b03",
   "metadata": {},
   "source": [
    "# Import .py file"
   ]
  },
  {
   "cell_type": "code",
   "execution_count": 276,
   "id": "b20aa546-977c-4b2e-a53c-8c8e62f9a6f7",
   "metadata": {},
   "outputs": [],
   "source": [
    "from room_cleaning_problem_py import n_cleans_required"
   ]
  },
  {
   "cell_type": "markdown",
   "id": "ab00688c-31b7-493e-81e8-c1d3d1454ce2",
   "metadata": {},
   "source": [
    "# Test 1"
   ]
  },
  {
   "cell_type": "code",
   "execution_count": 278,
   "id": "58063c31-c6f2-44f5-86e6-1877a2bfdde1",
   "metadata": {},
   "outputs": [],
   "source": [
    "matrix_1 = [['0', '0', '0', '0', '1', '1', '0'],\n",
    "            ['0', '0', '0', '0', '0', '0', '0'],\n",
    "            ['0', '0', '0', '1', '0', '0', '0'],\n",
    "            ['0', '0', '0', '0', '0', '0', '0'],\n",
    "            ['0', '0', '0', '0', '0', '0', '0'],\n",
    "            ['0', '1', '0', '0', '0', '0', '1'],\n",
    "            ['0', '1', '0', '0', '0', '0', '0']]"
   ]
  },
  {
   "cell_type": "code",
   "execution_count": 280,
   "id": "c1fd2d33-9592-4927-af47-29ffd97e4651",
   "metadata": {},
   "outputs": [
    {
     "name": "stdout",
     "output_type": "stream",
     "text": [
      "Number of local areas:  1 \n",
      "Number of cleans required:  1\n"
     ]
    }
   ],
   "source": [
    "answer_1 = n_cleans_required(matrix_1)\n",
    "\n",
    "print(answer_1[0], answer_1[1], answer_1[2], answer_1[3])"
   ]
  },
  {
   "cell_type": "markdown",
   "id": "3884867a-595b-4bad-a181-632acf894cc5",
   "metadata": {},
   "source": [
    "# Test 2"
   ]
  },
  {
   "cell_type": "code",
   "execution_count": 282,
   "id": "1ddd134d-222f-4fb7-96d2-3a87218d3a56",
   "metadata": {},
   "outputs": [],
   "source": [
    "matrix_2 = [['0', '#', '0', '0', '1', '1', '0'],\n",
    "            ['0', '0', '#', '0', '0', '0', '0'],\n",
    "            ['0', '0', '#', '1', '#', '#', '#'],\n",
    "            ['0', '#', '0', '0', '#', '0', '0'],\n",
    "            ['0', '0', '#', '#', '#', '0', '0'],\n",
    "            ['0', '1', '0', '0', '#', '0', '1'],\n",
    "            ['0', '1', '0', '0', '#', '0', '0']]"
   ]
  },
  {
   "cell_type": "code",
   "execution_count": 284,
   "id": "76b1a696-f55d-42eb-b38d-e292734b18e2",
   "metadata": {},
   "outputs": [
    {
     "name": "stdout",
     "output_type": "stream",
     "text": [
      "Number of local areas:  3 \n",
      "Number of cleans required:  3\n"
     ]
    }
   ],
   "source": [
    "answer_2 = n_cleans_required(matrix_2)\n",
    "\n",
    "print(answer_2[0], answer_2[1], answer_2[2], answer_2[3])"
   ]
  },
  {
   "cell_type": "markdown",
   "id": "85b9ed21-dc68-47e5-a706-24c67bb109a4",
   "metadata": {},
   "source": [
    "# Test 3"
   ]
  },
  {
   "cell_type": "code",
   "execution_count": 286,
   "id": "a13c336e-d247-4b62-a227-8b642be6a6d1",
   "metadata": {},
   "outputs": [],
   "source": [
    "matrix_3 = [['0', '0', '#', '0', '0', '0', '0'],\n",
    "            ['0', '0', '#', '0', '0', '0', '0'],\n",
    "            ['0', '0', '#', '#', '#', '#', '0'],\n",
    "            ['0', '0', '#', '0', '0', '#', '#'],\n",
    "            ['0', '0', '#', '0', '0', '0', '0'],\n",
    "            ['0', '1', '0', '#', '0', '0', '0'],\n",
    "            ['0', '1', '0', '#', '0', '0', '0']]"
   ]
  },
  {
   "cell_type": "code",
   "execution_count": 288,
   "id": "fbec3b2f-0b5a-4bac-84dc-70fca1c3cb64",
   "metadata": {},
   "outputs": [
    {
     "name": "stdout",
     "output_type": "stream",
     "text": [
      "Number of local areas:  3 \n",
      "Number of cleans required:  1\n"
     ]
    }
   ],
   "source": [
    "answer_3 = n_cleans_required(matrix_3)\n",
    "\n",
    "print(answer_3[0], answer_3[1], answer_3[2], answer_3[3])"
   ]
  },
  {
   "cell_type": "code",
   "execution_count": 296,
   "id": "5560be6f-80a3-4524-a745-16f38c3e67dd",
   "metadata": {},
   "outputs": [],
   "source": [
    "matrix_4 = [['0', '0', '#', '0', '0', '0', '0'],\n",
    "            ['0', '1', '#', '0', '0', '0', '0'],\n",
    "            ['0', '0', '#', '#', '#', '#', '0'],\n",
    "            ['#', '#', '#', '0', '0', '#', '#'],\n",
    "            ['0', '0', '#', '0', '0', '0', '0'],\n",
    "            ['0', '1', '0', '#', '0', '0', '0'],\n",
    "            ['0', '1', '0', '#', '0', '0', '0']]"
   ]
  },
  {
   "cell_type": "code",
   "execution_count": 298,
   "id": "2ae244fb-979c-4a60-a9f9-f765bd1c95d4",
   "metadata": {},
   "outputs": [
    {
     "name": "stdout",
     "output_type": "stream",
     "text": [
      "Number of local areas:  4 \n",
      "Number of cleans required:  2\n"
     ]
    }
   ],
   "source": [
    "answer_4 = n_cleans_required(matrix_4)\n",
    "\n",
    "print(answer_4[0], answer_4[1], answer_4[2], answer_4[3])"
   ]
  }
 ],
 "metadata": {
  "kernelspec": {
   "display_name": "Python 3 (ipykernel)",
   "language": "python",
   "name": "python3"
  },
  "language_info": {
   "codemirror_mode": {
    "name": "ipython",
    "version": 3
   },
   "file_extension": ".py",
   "mimetype": "text/x-python",
   "name": "python",
   "nbconvert_exporter": "python",
   "pygments_lexer": "ipython3",
   "version": "3.12.4"
  }
 },
 "nbformat": 4,
 "nbformat_minor": 5
}
