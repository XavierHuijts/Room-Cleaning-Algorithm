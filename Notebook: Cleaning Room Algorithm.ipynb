{
 "cells": [
  {
   "cell_type": "markdown",
   "metadata": {},
   "source": [
    "# Introduction"
   ]
  },
  {
   "cell_type": "markdown",
   "metadata": {},
   "source": [
    "The algorithm is broken down into multiple created functions, where the following order counts: <br /> <br /> \n",
    "$\\;\\;\\;\\;\\;\\;\\;\\;\\;\\;\\;\\;\\;$ 1) $\\;\\;\\;\\;\\;$Convert matrix into a system of coordinates and remove the wall coordinates <br /> \n",
    "$\\;\\;\\;\\;\\;\\;\\;\\;\\;\\;\\;\\;\\;$ 2) $\\;\\;\\;\\;\\;$First attempts to convert the list of coordinates to local areas <br /> \n",
    "$\\;\\;\\;\\;\\;\\;\\;\\;\\;\\;\\;\\;\\;$ 3) $\\;\\;\\;\\;\\;$Repeat the searching process untill the local areas are detected (one optimization might not be sufficient) <br /> \n",
    "$\\;\\;\\;\\;\\;\\;\\;\\;\\;\\;\\;\\;\\;$ 4) $\\;\\;\\;\\;\\;$Detect the number of required cleaning sessions <br /> "
   ]
  },
  {
   "cell_type": "markdown",
   "metadata": {},
   "source": [
    "# 1) Convert matrix into a system of coordinates and remove the wall coordinates"
   ]
  },
  {
   "cell_type": "markdown",
   "metadata": {},
   "source": [
    "### $\\;\\;\\;\\;\\;\\;\\;\\;\\;\\;\\;$Detect whether the coordinate corresponds to a wall"
   ]
  },
  {
   "cell_type": "markdown",
   "metadata": {},
   "source": [
    "$\\;\\;\\;\\;\\;\\;\\;\\;\\;\\;\\;\\;\\;\\;\\;\\;$The inputs are: <br />\n",
    "$\\;\\;\\;\\;\\;\\;\\;\\;\\;\\;\\;\\;\\;\\;\\;\\;$ $-$ The matrix X <br />\n",
    "$\\;\\;\\;\\;\\;\\;\\;\\;\\;\\;\\;\\;\\;\\;\\;\\;$ $-$ The i (= row) coordinate <br />\n",
    "$\\;\\;\\;\\;\\;\\;\\;\\;\\;\\;\\;\\;\\;\\;\\;\\;$ $-$ The j (= column) coordinate"
   ]
  },
  {
   "cell_type": "code",
   "execution_count": 108,
   "metadata": {},
   "outputs": [],
   "source": [
    "def is_wall(X, i, j):\n",
    "    single_cell = X[i][j]\n",
    "                    \n",
    "    # If wall, return True\n",
    "    if single_cell == '#':\n",
    "        return True\n",
    "        \n",
    "    else:\n",
    "        return False"
   ]
  },
  {
   "cell_type": "markdown",
   "metadata": {},
   "source": [
    "#### $\\;\\;\\;\\;\\;\\;\\;\\;\\;\\;\\;$ Convert the matrix into list of coordinates (i = row, j = column)"
   ]
  },
  {
   "cell_type": "markdown",
   "metadata": {},
   "source": [
    "$\\;\\;\\;\\;\\;\\;\\;\\;\\;\\;\\;\\;\\;$ Each position in the matrix has an associated coordinate, with the first cell on the top left being coordinate (0, 0).  <br /> \n",
    "$\\;\\;\\;\\;\\;\\;\\;\\;\\;\\;\\;\\;\\;$ The bottom right cell is coordinate (n-1, n-1), where n is the length of the row/columns (1 is substracted from n since the index in Python starts at 0 and not 1).  <br />$\\;\\;\\;\\;\\;\\;\\;\\;\\;\\;\\;\\;\\;$ For simplicity, the assumtion is made that the number of rows equals the numer of columns:<br /><br />   <big>$$ n_{i} = n_{j} $$</big>  <br />"
   ]
  },
  {
   "cell_type": "code",
   "execution_count": 3,
   "metadata": {},
   "outputs": [],
   "source": [
    "def create_coordinates(X):\n",
    "\n",
    "    n_rows = len(X)\n",
    "    n_cols = len(X[0])  # The assumtion is made that the length is equal for each row\n",
    "                    \n",
    "    coordinates = []\n",
    "        \n",
    "    for i in range(n_rows):\n",
    "        for j in range(n_cols):\n",
    "            coordinates.append((i, j))\n",
    " \n",
    "    return coordinates"
   ]
  },
  {
   "cell_type": "markdown",
   "metadata": {},
   "source": [
    "# 2) First attempts to convert the list of coordinates to local areas \n"
   ]
  },
  {
   "cell_type": "markdown",
   "metadata": {},
   "source": [
    "### $\\;\\;\\;\\;\\;\\;\\;\\;\\;\\;\\;$ Flatten a list"
   ]
  },
  {
   "cell_type": "markdown",
   "metadata": {},
   "source": [
    "$\\;\\;\\;\\;\\;\\;\\;\\;\\;\\;\\;\\;\\;\\;\\;\\;$ In the Numpy package there is a specific function that flatten a Numpy array. <br /> $\\;\\;\\;\\;\\;\\;\\;\\;\\;\\;\\;\\;\\;\\;\\;\\;$ Since I do not use Numpy arrays (but rather lists) in this notebook, I prefer to write a clean and readable function to flatten a list, <br /> $\\;\\;\\;\\;\\;\\;\\;\\;\\;\\;\\;\\;\\;\\;\\;\\;$ even though this can also be performed by doing the following: sum(your_list, [].\n",
    "Since I know the list will contain lists (which will contain tuples), \n",
    " <br /> $\\;\\;\\;\\;\\;\\;\\;\\;\\;\\;\\;\\;\\;\\;\\;\\;$  the goal is to get one list of tuples. For example: <br /> <br />\n",
    " $\\;\\;\\;\\;\\;\\;\\;\\;\\;\\;\\;\\;\\;\\;\\;\\;$  $$[ \\; \\;[ \\; \\;(0, 0),\\;(0, 1) \\;\\;],  \\;[ \\; \\;(2, 3) \\; \\;] \\;\\;]  \\;\\;\\;\\;  -> \\;\\;\\;\\;    [ \\; \\;(0, 0), \\;(0, 1), \\;(2, 3) \\; \\;]$$ <br />"
   ]
  },
  {
   "cell_type": "code",
   "execution_count": 4,
   "metadata": {},
   "outputs": [],
   "source": [
    "def flatten_list(lst):\n",
    "    \n",
    "    flattened_list = []\n",
    "    \n",
    "    for inner_list in lst:\n",
    "        for tuple_ in inner_list:\n",
    "            flattened_list.append(tuple_)\n",
    "    \n",
    "    return flattened_list"
   ]
  },
  {
   "cell_type": "markdown",
   "metadata": {},
   "source": [
    "### $\\;\\;\\;\\;\\;\\;\\;\\;\\;\\;\\;$ Delete the coordinates which are walls"
   ]
  },
  {
   "cell_type": "markdown",
   "metadata": {},
   "source": [
    "$\\;\\;\\;\\;\\;\\;\\;\\;\\;\\;\\;\\;\\;\\;\\;\\;$ We are only interested in neighbouring rooms and using this method, it is not necessary to keep the coordinates of the walls (hence, we delete them).  "
   ]
  },
  {
   "cell_type": "code",
   "execution_count": 5,
   "metadata": {},
   "outputs": [],
   "source": [
    "def clean_coordinates(X):\n",
    "\n",
    "    coordinates = create_coordinates(X)\n",
    "    cors_with_no_walls = []\n",
    "    \n",
    "    \n",
    "    for cor in coordinates:\n",
    "        i, j = cor\n",
    "        \n",
    "        if is_wall(i, j, X):\n",
    "            continue\n",
    "            \n",
    "        else:\n",
    "            cors_with_no_walls.append(cor)\n",
    "    \n",
    "    return cors_with_no_walls"
   ]
  },
  {
   "cell_type": "markdown",
   "metadata": {},
   "source": [
    "### $\\;\\;\\;\\;\\;\\;\\;\\;\\;\\; \\;$ Find local areas "
   ]
  },
  {
   "cell_type": "markdown",
   "metadata": {},
   "source": [
    "$\\;\\;\\;\\;\\;\\;\\;\\;\\;\\;\\;\\;\\;\\;\\;\\;$ Fiding all local araes might take more than one search using this method, depending on the complexity (or smoothness) of the local areas. \n",
    "<br />\n",
    "$\\;\\;\\;\\;\\;\\;\\;\\;\\;\\;\\;\\;\\;\\;\\;\\;$ For example, a local area consisting of only a horizonal line (start: i, j , end: i+x, j), will be found in one search. Larger local areas (certainly in case <br /> $\\;\\;\\;\\;\\;\\;\\;\\;\\;\\;\\;\\;\\;\\;\\;\\;$ there is some interference of walls) may take 2 or more searched. "
   ]
  },
  {
   "cell_type": "markdown",
   "metadata": {},
   "source": [
    "$\\;\\;\\;\\;\\;\\;\\;\\;\\;\\;\\;\\;\\;\\;\\;\\;$ To find the first search, the following code is used:"
   ]
  },
  {
   "cell_type": "code",
   "execution_count": 99,
   "metadata": {},
   "outputs": [],
   "source": [
    "def find_local_areas(X):\n",
    "\n",
    "    clean_cors = clean_coordinates(X)\n",
    "\n",
    "    local_areas = []\n",
    "\n",
    "    for cor in clean_cors:\n",
    "        \n",
    "        # If the coordinate of one of the local_aras is already in the flattened local_areas list, continue to the next    \n",
    "        if cor in flatten_list(local_areas): \n",
    "            continue\n",
    "            \n",
    "        i, j = cor\n",
    "        local =[cor]\n",
    "        latest_i, latest_j = cor\n",
    "        \n",
    "        for cor2 in clean_cors:\n",
    "            \n",
    "            # If the coordinate of the inner loop is in the flattened local_areas list, continue to the next    \n",
    "            if cor2 in flatten_list(local_areas): \n",
    "                continue\n",
    "                \n",
    "            i2, j2 = cor2 \n",
    "            \n",
    "            # If the absolute difference between both coordinates equals 1, it is sure that the rooms are neighbouring  \n",
    "            difference = abs(i2 - latest_i) + abs(j2 - latest_j)\n",
    "            \n",
    "            if difference == 1:\n",
    "                local.append(cor2)\n",
    "                latest_i, latest_j = cor2\n",
    "        \n",
    "        local_areas.append(local)\n",
    "\n",
    "    return local_areas"
   ]
  },
  {
   "cell_type": "markdown",
   "metadata": {},
   "source": [
    "# 3) Repeat the searching process untill the local areas are detected (one optimization might not be sufficient)"
   ]
  },
  {
   "cell_type": "markdown",
   "metadata": {},
   "source": [
    "$\\;\\;\\;\\;\\;\\;\\;\\;\\;\\;\\;\\;\\;\\;\\;\\;$ In the below, the first search is tested. In case there are still 2 areas which should be combined, it will cluster the 2 areas into 1 local area."
   ]
  },
  {
   "cell_type": "code",
   "execution_count": 92,
   "metadata": {},
   "outputs": [],
   "source": [
    "def clusterize(X):\n",
    "    \n",
    "    local_areas = find_local_areas(X)\n",
    "    new_cluster = []\n",
    "    removed = []\n",
    "\n",
    "    # Initilize to True to make the while loop work\n",
    "    any_change = True\n",
    "    count = 0\n",
    "\n",
    "    while any_change:\n",
    "        \n",
    "        # Re-initiliaze to false, and in case any movement appears set to True\n",
    "        any_change = False\n",
    "    \n",
    "        if count > 0:\n",
    "            local_areas = new_cluster\n",
    "            new_cluster = []\n",
    "            removed = []\n",
    "            \n",
    "        for lst in local_areas:\n",
    "\n",
    "            if lst[0] in removed:\n",
    "                continue\n",
    "\n",
    "            match = False\n",
    "\n",
    "            removed.extend(lst)\n",
    "\n",
    "            for lst2 in local_areas:\n",
    "\n",
    "                if lst2[0] in removed:\n",
    "                    continue\n",
    "\n",
    "                for cor in lst:\n",
    "                    i, j = cor\n",
    "\n",
    "                    for cor2 in lst2:\n",
    "                        i2, j2 = cor2\n",
    "                        difference = abs(i2 - i) + abs(j2 - j)\n",
    "\n",
    "                    if difference == 1:\n",
    "                        add = lst + lst2\n",
    "                        removed.extend(lst2)\n",
    "                        new_cluster.append(add)\n",
    "                        match = True\n",
    "                        any_change = True\n",
    "                        break\n",
    "\n",
    "            if match == False:\n",
    "                new_cluster.append(lst)\n",
    "                removed.extend(lst)\n",
    "        \n",
    "        count =+ 1\n",
    "\n",
    "    return new_cluster"
   ]
  },
  {
   "cell_type": "markdown",
   "metadata": {},
   "source": [
    "# 4) Detect the number of required cleaning sessions"
   ]
  },
  {
   "cell_type": "markdown",
   "metadata": {},
   "source": [
    "### $\\;\\;\\;\\;\\;\\;\\;\\;\\;\\;\\;$ Detect whether there is a dirty room in the local areas"
   ]
  },
  {
   "cell_type": "code",
   "execution_count": 60,
   "metadata": {},
   "outputs": [],
   "source": [
    "def is_dirty(i, j, X):\n",
    "    single_position = X[i][j]\n",
    "    \n",
    "    if single_position == '1':\n",
    "        return True\n",
    "    \n",
    "    else:\n",
    "        return False"
   ]
  },
  {
   "cell_type": "markdown",
   "metadata": {},
   "source": [
    "### $\\;\\;\\;\\;\\;\\;\\;\\;\\;\\;\\;$ Iterate over local areas and count the required clean sessions"
   ]
  },
  {
   "cell_type": "markdown",
   "metadata": {},
   "source": [
    "$\\;\\;\\;\\;\\;\\;\\;\\;\\;\\;\\;\\;\\;\\;\\;\\;$ Iterate over the rooms in each local area. If a local area contains at least one dirty room, add 1 to the number of required cleaning sessions and continue to the next local area"
   ]
  },
  {
   "cell_type": "code",
   "execution_count": 109,
   "metadata": {},
   "outputs": [],
   "source": [
    "def n_cleans_required(X):\n",
    "    \n",
    "    local_areas = clusterize(X)\n",
    "    n_cleans = 0\n",
    "    \n",
    "    # Iterate over each local area\n",
    "    for local_area in local_areas:\n",
    "        dirty_room = False\n",
    "        \n",
    "        # Iterate over the rooms in the lcoal area\n",
    "        for rooms_cor in local_area: \n",
    "            i, j = rooms_cor\n",
    "            \n",
    "            '''In case there is a dirty room in a local alrea, add \n",
    "                one cleaning session and go to the next local area \n",
    "                (by breaking the inner loop)'''\n",
    "            if is_dirty(i, j, X):\n",
    "                dirty_room = True\n",
    "                n_cleans += 1\n",
    "                break\n",
    "        \n",
    "    return 'Number of local areas: ', len(local_areas), '\\nNumber of cleans required: ', n_cleans"
   ]
  }
 ],
 "metadata": {
  "kernelspec": {
   "display_name": "Python 3",
   "language": "python",
   "name": "python3"
  },
  "language_info": {
   "codemirror_mode": {
    "name": "ipython",
    "version": 3
   },
   "file_extension": ".py",
   "mimetype": "text/x-python",
   "name": "python",
   "nbconvert_exporter": "python",
   "pygments_lexer": "ipython3",
   "version": "3.7.1"
  }
 },
 "nbformat": 4,
 "nbformat_minor": 2
}
